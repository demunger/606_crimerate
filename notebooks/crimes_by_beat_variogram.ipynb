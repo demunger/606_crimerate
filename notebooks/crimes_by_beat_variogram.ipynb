{
 "cells": [
  {
   "cell_type": "code",
   "execution_count": null,
   "metadata": {
    "collapsed": false,
    "scrolled": true
   },
   "outputs": [],
   "source": [
    "library(foreign)\n",
    "library(sp)\n",
    "library(gstat)"
   ]
  },
  {
   "cell_type": "code",
   "execution_count": null,
   "metadata": {
    "collapsed": false
   },
   "outputs": [],
   "source": [
    "## Read data\n",
    "crimes <- read.dbf(\"chicago_beats_neighbors.dbf\")"
   ]
  },
  {
   "cell_type": "code",
   "execution_count": null,
   "metadata": {
    "collapsed": false
   },
   "outputs": [],
   "source": [
    "## Create SpatialPointsDataFrame\n",
    "coordinates(crimes) <- ~ COORD_Y + COORD_X"
   ]
  },
  {
   "cell_type": "code",
   "execution_count": null,
   "metadata": {
    "collapsed": false
   },
   "outputs": [],
   "source": [
    "## Create variogram cloud\n",
    "vcloud <- variogram(Crimes~1, data = crimes, cloud = TRUE)\n",
    "plot(vcloud, pch = 1, col = \"darkred\", main = \"Cloud Variogram\",\n",
    "    xlab = \"Distance\", ylab = \"Semivariance\")"
   ]
  },
  {
   "cell_type": "code",
   "execution_count": null,
   "metadata": {
    "collapsed": false
   },
   "outputs": [],
   "source": [
    "## Create empirical variogram\n",
    "v1 <- variogram(Crimes~1, data = crimes, cutoff = .04)\n",
    "plot(v1, type = \"b\",\n",
    "    col = \"darkred\", main = \"Empirical Variogram\", sub = \"Cutt-off Distance = .04 mi\",\n",
    "    xlab = \"Distance\", ylab = \"Semivariance\")"
   ]
  },
  {
   "cell_type": "code",
   "execution_count": null,
   "metadata": {
    "collapsed": false
   },
   "outputs": [],
   "source": [
    "## Directional variogram\n",
    "v2 <- variogram(Crimes~1, data = crimes, alpha=c(0,45,90,135), cutoff=.04)\n",
    "plot(v2,type = \"b\",\n",
    "    col = \"darkred\", main = \"Directional Variogram\", sub = \"Cutt-off Distance = .04\",\n",
    "    xlab = \"Distance\", ylab = \"Semivariance\")"
   ]
  },
  {
   "cell_type": "code",
   "execution_count": null,
   "metadata": {
    "collapsed": false
   },
   "outputs": [],
   "source": [
    "## Variogram map\n",
    "v3 <- variogram(Crimes~1, data = crimes, \n",
    "    cutoff = .04, width = .01, map = TRUE)\n",
    "plot(v3, threshold = 5, col.regions = terrain.colors(16), strip = FALSE,\n",
    "    xlab = \"Horizontal Distance\", ylab = \"Vertical Distance\", \n",
    "    sub = \"Threshold = 5\", main = \"Variogram Map\")"
   ]
  }
 ],
 "metadata": {
  "anaconda-cloud": {},
  "kernelspec": {
   "display_name": "R",
   "language": "R",
   "name": "ir"
  },
  "language_info": {
   "codemirror_mode": "r",
   "file_extension": ".r",
   "mimetype": "text/x-r-source",
   "name": "R",
   "pygments_lexer": "r",
   "version": "3.3.1"
  }
 },
 "nbformat": 4,
 "nbformat_minor": 0
}
