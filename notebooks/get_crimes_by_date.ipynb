{
 "cells": [
  {
   "cell_type": "code",
   "execution_count": null,
   "metadata": {
    "collapsed": false
   },
   "outputs": [],
   "source": [
    "library(data.table)\n",
    "library(dplyr)\n",
    "library(lubridate)"
   ]
  },
  {
   "cell_type": "code",
   "execution_count": null,
   "metadata": {
    "collapsed": false
   },
   "outputs": [],
   "source": [
    "# Read data from csv\n",
    "file_name <- file.path(Sys.getenv(\"USERPROFILE\"), \"Desktop\\\\chicago_crimes.csv\")\n",
    "crimes <- fread(file_name)"
   ]
  },
  {
   "cell_type": "code",
   "execution_count": null,
   "metadata": {
    "collapsed": true
   },
   "outputs": [],
   "source": [
    "## Remove entries without location data\n",
    "crimes <- crimes[crimes$Latitude != 0 & crimes$Longitude != 0]"
   ]
  },
  {
   "cell_type": "code",
   "execution_count": null,
   "metadata": {
    "collapsed": true
   },
   "outputs": [],
   "source": [
    "# Filter by police beat areas near to the trail\n",
    "beat_areas <- c(1111, 1211, 1121, 1423, 1112, 1213, 1432, 1414,\n",
    "                1431, 1413, 1811, 2525, 2534, 1822, 1424, \n",
    "                1421, 1422, 1433, 1434, 2535)\n",
    "crimes_beat <- crimes[crimes$Beat %in% beat_areas,]"
   ]
  },
  {
   "cell_type": "code",
   "execution_count": null,
   "metadata": {
    "collapsed": false
   },
   "outputs": [],
   "source": [
    "# Filter by arrests made since the trail opened (6-6-2015)\n",
    "crimes_beat$Date <- as.Date(crimes_beat$Date,\"%m/%d/%Y\")\n",
    "crimes_beat$Year <- as.numeric(format(crimes_beat$Date, \"%Y\"))\n",
    "crimes_beat$Month <- as.numeric(format(crimes_beat$Date, \"%m\"))"
   ]
  },
  {
   "cell_type": "code",
   "execution_count": null,
   "metadata": {
    "collapsed": false
   },
   "outputs": [],
   "source": [
    "temp <- crimes_beat[crimes_beat$Month == 11,]\n",
    "crime_beat_2016 <- crimes_beat[crimes_beat$Year == 2016,]\n",
    "crime_beat_2016 <- as.data.frame(table(crime_beat_2016$Beat))\n",
    "colnames(crime_beat_2016) <- c(\"Beat\", \"Crimes_2016\")\n",
    "\n",
    "crime_beat_2015 <- crimes_beat[crimes_beat$Year == 2015,]\n",
    "crime_beat_2015 <- as.data.frame(table(crime_beat_2015$Beat))\n",
    "colnames(crime_beat_2015) <- c(\"Beat\", \"Crimes_2015\")\n",
    "\n",
    "crime_beat_2014 <- crimes_beat[crimes_beat$Year == 2014,]\n",
    "crime_beat_2014 <- as.data.frame(table(crime_beat_2014$Beat))\n",
    "colnames(crime_beat_2014) <- c(\"Beat\", \"Crimes_2014\")"
   ]
  },
  {
   "cell_type": "code",
   "execution_count": null,
   "metadata": {
    "collapsed": true
   },
   "outputs": [],
   "source": [
    "crime_beat_years <- cbind(crime_beat_2016, crime_beat_2015, crime_beat_2014)"
   ]
  },
  {
   "cell_type": "code",
   "execution_count": null,
   "metadata": {
    "collapsed": true
   },
   "outputs": [],
   "source": [
    "write.csv(crime_beat_years, \"crime_beat_years.csv\", row.names=FALSE)"
   ]
  },
  {
   "cell_type": "code",
   "execution_count": null,
   "metadata": {
    "collapsed": false
   },
   "outputs": [],
   "source": [
    "sum(crime_beat_years$Crimes_2014)\n",
    "sum(crime_beat_years$Crimes_2015)\n",
    "sum(crime_beat_years$Crimes_2016)"
   ]
  }
 ],
 "metadata": {
  "kernelspec": {
   "display_name": "R",
   "language": "R",
   "name": "ir"
  },
  "language_info": {
   "codemirror_mode": "r",
   "file_extension": ".r",
   "mimetype": "text/x-r-source",
   "name": "R",
   "pygments_lexer": "r",
   "version": "3.3.1"
  }
 },
 "nbformat": 4,
 "nbformat_minor": 1
}
