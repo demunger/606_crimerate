{
 "cells": [
  {
   "cell_type": "code",
   "execution_count": null,
   "metadata": {
    "collapsed": false
   },
   "outputs": [],
   "source": [
    "library(foreign)\n",
    "library(rgdal)\n",
    "library(ggmap)\n",
    "library(maptools)\n",
    "library(plyr)"
   ]
  },
  {
   "cell_type": "code",
   "execution_count": null,
   "metadata": {
    "collapsed": false
   },
   "outputs": [],
   "source": [
    "access_points <- read.dbf(\"Access_Points.dbf\")\n",
    "trail <- readOGR(dsn = \".\", layer = \"Bloomingdale_Trail_Polygon\")"
   ]
  },
  {
   "cell_type": "code",
   "execution_count": null,
   "metadata": {
    "collapsed": false
   },
   "outputs": [],
   "source": [
    "lon <- quantile(access_points[, 'Longitude'], .55)\n",
    "lat <- mean(access_points[,'Latitude'])\n",
    "chicago <- get_map(location = c(lon, lat), zoom = 14, source = \"osm\", color = \"bw\")"
   ]
  },
  {
   "cell_type": "code",
   "execution_count": null,
   "metadata": {
    "collapsed": true
   },
   "outputs": [],
   "source": [
    "plotted_access_points <- geom_point(data = access_points, \n",
    "    aes(x = Longitude, y = Latitude), size = 2.5,\n",
    "    shape = 21, color = \"green4\", show.legend = FALSE)"
   ]
  },
  {
   "cell_type": "code",
   "execution_count": null,
   "metadata": {
    "collapsed": false
   },
   "outputs": [],
   "source": [
    "trail$id <- rownames(trail@data)\n",
    "trail.points <- fortify(trail, region = \"id\")\n",
    "trail.df <- join(trail.points, trail@data, by = \"id\")\n",
    "\n",
    "plotted_trail <- geom_polygon(data = trail.df, aes(long, lat, group = group), \n",
    "    color = \"darkgreen\")"
   ]
  },
  {
   "cell_type": "code",
   "execution_count": null,
   "metadata": {
    "collapsed": false
   },
   "outputs": [],
   "source": [
    "ggmap(chicago) + plotted_trail + plotted_access_points +\n",
    "    theme(plot.title = element_text(hjust = .5), \n",
    "    axis.title.y = element_blank(), axis.title.x = element_blank()) +\n",
    "    ggtitle(expression(atop(paste('Bloomingdale Trail'), atop(paste('Trail Path and Location of Access Points'), \"\"))))"
   ]
  }
 ],
 "metadata": {
  "anaconda-cloud": {},
  "kernelspec": {
   "display_name": "R",
   "language": "R",
   "name": "ir"
  },
  "language_info": {
   "codemirror_mode": "r",
   "file_extension": ".r",
   "mimetype": "text/x-r-source",
   "name": "R",
   "pygments_lexer": "r",
   "version": "3.3.1"
  }
 },
 "nbformat": 4,
 "nbformat_minor": 1
}
