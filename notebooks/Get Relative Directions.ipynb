{
 "cells": [
  {
   "cell_type": "code",
   "execution_count": null,
   "metadata": {
    "collapsed": true
   },
   "outputs": [],
   "source": [
    "import math\n",
    "import pandas as pd\n",
    "import geojson as json\n",
    "from shapely.geometry import Point, LineString"
   ]
  },
  {
   "cell_type": "code",
   "execution_count": null,
   "metadata": {
    "collapsed": false
   },
   "outputs": [],
   "source": [
    "with open('Bloomingdale_Trail.geojson') as f:\n",
    "    trail_json = json.load(f)\n",
    "trail = LineString(trail_json['features'][0]['geometry']['coordinates'])\n",
    "\n",
    "crime_loc = pd.read_csv(\"chicago_crimes_subset.csv\")"
   ]
  },
  {
   "cell_type": "code",
   "execution_count": null,
   "metadata": {
    "collapsed": false
   },
   "outputs": [],
   "source": [
    "def get_point(obs):\n",
    "    return Point(obs['Longitude'], obs['Latitude'])\n",
    "loc = crime_loc.apply(get_point, axis = 1)"
   ]
  },
  {
   "cell_type": "code",
   "execution_count": null,
   "metadata": {
    "collapsed": false
   },
   "outputs": [],
   "source": [
    "def get_distance(obs):\n",
    "    # calculate Euclidean distance in degrees\n",
    "    return obs.distance(trail)\n",
    "crime_loc['Distance'] = loc.apply(get_distance)"
   ]
  },
  {
   "cell_type": "code",
   "execution_count": null,
   "metadata": {
    "collapsed": false
   },
   "outputs": [],
   "source": [
    "def get_coords(pt):\n",
    "    return (math.radians(pt.y), math.radians(pt.x))\n",
    "\n",
    "def get_direction(obs):\n",
    "    ## calculate compass bearing between obs, nearest point on trail\n",
    "    pt_lat, pt_lon = get_coords(obs)\n",
    "    trail_point = trail.interpolate(trail.project(obs))\n",
    "    trail_lat, trail_lon = get_coords(trail_point)\n",
    "    \n",
    "    diff_lon = pt_lon - trail_lon\n",
    "    x = math.sin(diff_lon) * math.sin(pt_lat)\n",
    "    y = math.cos(trail_lat) * math.sin(pt_lat) - (math.sin(trail_lat) * math.cos(pt_lat) * math.cos(diff_lon))\n",
    "    init_bearing = math.degrees(math.atan2(x, y))\n",
    "    compass_bearing = (init_bearing + 360) % 360\n",
    "    \n",
    "    if compass_bearing > 90 and compass_bearing <= 270:\n",
    "        return 'S'\n",
    "    return 'N'\n",
    "\n",
    "crime_loc['Direction'] = loc.apply(get_direction)"
   ]
  },
  {
   "cell_type": "code",
   "execution_count": null,
   "metadata": {
    "collapsed": true
   },
   "outputs": [],
   "source": [
    "crime_loc.to_csv('chicago_crimes_subset_distance.csv')"
   ]
  }
 ],
 "metadata": {
  "anaconda-cloud": {},
  "kernelspec": {
   "display_name": "Python [conda env:p34-geo]",
   "language": "python",
   "name": "conda-env-p34-geo-py"
  },
  "language_info": {
   "codemirror_mode": {
    "name": "ipython",
    "version": 3
   },
   "file_extension": ".py",
   "mimetype": "text/x-python",
   "name": "python",
   "nbconvert_exporter": "python",
   "pygments_lexer": "ipython3",
   "version": "3.4.5"
  }
 },
 "nbformat": 4,
 "nbformat_minor": 1
}
