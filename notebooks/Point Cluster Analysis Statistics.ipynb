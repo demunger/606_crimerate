{
 "cells": [
  {
   "cell_type": "code",
   "execution_count": null,
   "metadata": {
    "collapsed": false
   },
   "outputs": [],
   "source": [
    "library(sp)\n",
    "library(maptools)\n",
    "library(spatstat)\n",
    "library(foreign)"
   ]
  },
  {
   "cell_type": "code",
   "execution_count": null,
   "metadata": {
    "collapsed": false
   },
   "outputs": [],
   "source": [
    "## Extract point data\n",
    "data <- readShapeSpatial(\"chicago_crimes_selected_beats_full.shp\")\n",
    "data_pt <- as.ppp(data)\n",
    "data_pt_only <- unmark(data_pt)"
   ]
  },
  {
   "cell_type": "code",
   "execution_count": null,
   "metadata": {
    "collapsed": false
   },
   "outputs": [],
   "source": [
    "## Get projected values\n",
    "local_crime_points <- read.dbf(\"chicago_crimes_selected_beats_full.dbf\")\n",
    "lon <- mean(local_crime_points[, 'Longitude'])\n",
    "lat <- mean(local_crime_points[,'Latitude'])\n",
    "\n",
    "EPSG <- 32700 - round((45 + lat)/90)*100 + round((183 + lon)/6)\n",
    "coords <- SpatialPoints(coords(data_pt_only), proj4string = CRS(\"+proj=longlat\"))\n",
    "proj_xy <- spTransform(coords, CRS(paste0(\"+init=epsg:\", EPSG, \"\")))\n",
    "proj_data_pt <- unmark(as.ppp(proj_xy))"
   ]
  },
  {
   "cell_type": "code",
   "execution_count": null,
   "metadata": {
    "collapsed": false
   },
   "outputs": [],
   "source": [
    "ch <- convexhull(proj_data_pt)\n",
    "ch_pt <- ppp(coords(proj_data_pt)$x, coords(proj_data_pt)$y, window = ch)\n",
    "plot(ch_pt, main = \"Bloomingdale Trail: Adjacent Police Beats\")\n",
    "mtext(\"Convex Hull Boundary\")"
   ]
  },
  {
   "cell_type": "code",
   "execution_count": null,
   "metadata": {
    "collapsed": false
   },
   "outputs": [],
   "source": [
    "## G Function (event-to-event)\n",
    "g_fun <- Gest(ch_pt)\n",
    "plot(g_fun,  main = \"Bloomingdale Trail: Adjacent Police Beats\")\n",
    "mtext(\"Crime Locations Since 6/6/2015 - G-Statistic Function\")"
   ]
  },
  {
   "cell_type": "code",
   "execution_count": null,
   "metadata": {
    "collapsed": false,
    "scrolled": false
   },
   "outputs": [],
   "source": [
    "g_gun_env <- envelope(ch_pt, fun = Gest)\n",
    "plot(g_gun_env, main = \"Bloomingdale Trail: Adjacent Police Beats\")\n",
    "mtext(\"Crime Locations Since 6/6/2015 - G-Statistic Function Envelope\")"
   ]
  },
  {
   "cell_type": "code",
   "execution_count": null,
   "metadata": {
    "collapsed": false,
    "scrolled": false
   },
   "outputs": [],
   "source": [
    "j_fun <- Jest(ch_pt)\n",
    "plot(j_fun, main = \"Bloomingdale Trail: Adjacent Police Beats\")\n",
    "mtext(\"Crime Locations Since 6/6/2015 - J-Statistic Function\")"
   ]
  },
  {
   "cell_type": "code",
   "execution_count": null,
   "metadata": {
    "collapsed": false
   },
   "outputs": [],
   "source": [
    "j_fun_env <- envelope(ch_pt, fun = Jest)\n",
    "plot(j_fun_env, main = \"Bloomingdale Trail: Adjacent Police Beats\")\n",
    "mtext(\"Crime Locations Since 6/6/2015 - J-Statistic Function Envelope\")"
   ]
  }
 ],
 "metadata": {
  "anaconda-cloud": {},
  "kernelspec": {
   "display_name": "R [conda env:r]",
   "language": "R",
   "name": "conda-env-r-r"
  },
  "language_info": {
   "codemirror_mode": "r",
   "file_extension": ".r",
   "mimetype": "text/x-r-source",
   "name": "R",
   "pygments_lexer": "r",
   "version": "3.3.1"
  }
 },
 "nbformat": 4,
 "nbformat_minor": 1
}
