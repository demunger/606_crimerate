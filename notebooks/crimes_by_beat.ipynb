{
 "cells": [
  {
   "cell_type": "code",
   "execution_count": null,
   "metadata": {
    "collapsed": false,
    "scrolled": true
   },
   "outputs": [],
   "source": [
    "library(data.table)\n",
    "library(dplyr)\n",
    "library(rgdal)"
   ]
  },
  {
   "cell_type": "code",
   "execution_count": null,
   "metadata": {
    "collapsed": false
   },
   "outputs": [],
   "source": [
    "# Read data from csv\n",
    "file_name <- file.path(Sys.getenv(\"USERPROFILE\"), \"Desktop\\\\chicago_crimes.csv\")\n",
    "crimes <- fread(file_name)"
   ]
  },
  {
   "cell_type": "code",
   "execution_count": null,
   "metadata": {
    "collapsed": false
   },
   "outputs": [],
   "source": [
    "## Remove entries without location data\n",
    "crimes <- crimes[crimes$Latitude != 0 & crimes$Longitude != 0]"
   ]
  },
  {
   "cell_type": "code",
   "execution_count": null,
   "metadata": {
    "collapsed": false,
    "scrolled": true
   },
   "outputs": [],
   "source": [
    "# Filter by arrests made since the trail opened (6-6-2015)\n",
    "crimes$Date <- as.Date(crimes$Date,\"%m/%d/%Y\")\n",
    "crimes_post <- crimes[crimes$Date > as.Date(\"2015-06-06\"),]\n",
    "write.csv(crimes_post, \"crime_by_all_beats.csv\", row.names=FALSE)"
   ]
  },
  {
   "cell_type": "code",
   "execution_count": null,
   "metadata": {
    "collapsed": false
   },
   "outputs": [],
   "source": [
    "# Filter by police beat areas adjacent to the trail\n",
    "beat_areas <- c(1421, 1422, 1433, 1434, 2535)\n",
    "crimes_post_beat <- crimes_post[crimes_post$Beat %in% beat_areas,]\n",
    "write.csv(crimes_post_beat, \"crime_by_beat.csv\", row.names=FALSE)"
   ]
  },
  {
   "cell_type": "code",
   "execution_count": null,
   "metadata": {
    "collapsed": false
   },
   "outputs": [],
   "source": [
    "# Filter by police beat areas near to the trail\n",
    "beat_areas <- c(1111, 1211, 1121, 1423, 1112, 1213, 1432, 1414,\n",
    "                1431, 1413, 1811, 2525, 2534, 1822, 1424, \n",
    "                1421, 1422, 1433, 1434, 2535)\n",
    "crimes_post_beat <- crimes_post[crimes_post$Beat %in% beat_areas,]\n",
    "write.csv(crimes_post_beat, \"crime_by_beat_plus.csv\", row.names=FALSE)"
   ]
  },
  {
   "cell_type": "code",
   "execution_count": null,
   "metadata": {
    "collapsed": false
   },
   "outputs": [],
   "source": [
    "counts <- as.data.frame(table(crimes_post_beat$'Primary Type'))\n",
    "dim(crimes_post_beat)\n",
    "head(counts[order(-counts$Freq),])"
   ]
  },
  {
   "cell_type": "code",
   "execution_count": null,
   "metadata": {
    "collapsed": false
   },
   "outputs": [],
   "source": [
    "# Calculate arrests by beat\n",
    "crimes_beat <- as.data.frame(table(crimes_post_beat$Beat))\n",
    "colnames(crimes_beat) <- c(\"Beat\", \"Crimes\")"
   ]
  },
  {
   "cell_type": "code",
   "execution_count": null,
   "metadata": {
    "collapsed": false
   },
   "outputs": [],
   "source": [
    "# Convert factor to numeric\n",
    "crimes_beat$Beat <- as.numeric(levels(crimes_beat$Beat))"
   ]
  },
  {
   "cell_type": "code",
   "execution_count": null,
   "metadata": {
    "collapsed": false
   },
   "outputs": [],
   "source": [
    "write.csv(crimes_beat, \"crime_by_beat_plus_agg.csv\", row.names=FALSE)"
   ]
  },
  {
   "cell_type": "code",
   "execution_count": null,
   "metadata": {
    "collapsed": false
   },
   "outputs": [],
   "source": [
    "# Get beat shapes\n",
    "beat_shapes <- readOGR(\"chicago_beats.geojson\", \"OGRGeoJSON\")\n",
    "beat_shapes <- beat_shapes[beat_shapes$beat_num %in% crimes_beat$Beat,]"
   ]
  }
 ],
 "metadata": {
  "anaconda-cloud": {},
  "kernelspec": {
   "display_name": "R",
   "language": "R",
   "name": "ir"
  },
  "language_info": {
   "codemirror_mode": "r",
   "file_extension": ".r",
   "mimetype": "text/x-r-source",
   "name": "R",
   "pygments_lexer": "r",
   "version": "3.3.1"
  }
 },
 "nbformat": 4,
 "nbformat_minor": 0
}
