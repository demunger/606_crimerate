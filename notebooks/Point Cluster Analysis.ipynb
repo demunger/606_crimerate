{
 "cells": [
  {
   "cell_type": "code",
   "execution_count": null,
   "metadata": {
    "collapsed": false
   },
   "outputs": [],
   "source": [
    "library(foreign)\n",
    "library(sp)\n",
    "library(maptools)\n",
    "library(spatstat)\n",
    "library(ggmap)\n",
    "library(rgdal)"
   ]
  },
  {
   "cell_type": "code",
   "execution_count": null,
   "metadata": {
    "collapsed": false
   },
   "outputs": [],
   "source": [
    "## Plot crime events\n",
    "crime_points <- read.dbf(\"chicago_crimes_all_beats.dbf\")\n",
    "local_crime_points <- read.dbf(\"chicago_crimes_selected_beats.dbf\")"
   ]
  },
  {
   "cell_type": "code",
   "execution_count": null,
   "metadata": {
    "collapsed": false
   },
   "outputs": [],
   "source": [
    "lon <- as.numeric(quantile(local_crime_points[, 'Longitude'], .55))\n",
    "lat <- mean(local_crime_points[,'Latitude'])\n",
    "chicago <- get_map(location = c(lon, lat), zoom = 14, source = \"osm\", color = \"bw\")"
   ]
  },
  {
   "cell_type": "code",
   "execution_count": null,
   "metadata": {
    "collapsed": false
   },
   "outputs": [],
   "source": [
    "plotted_points <- geom_point(data = crime_points, \n",
    "    aes(x = Longitude, y = Latitude), size = .8,\n",
    "    shape = 20, color = \"darkred\", show.legend = FALSE)"
   ]
  },
  {
   "cell_type": "code",
   "execution_count": null,
   "metadata": {
    "collapsed": false
   },
   "outputs": [],
   "source": [
    "ggmap(chicago) + plotted_points +\n",
    "    theme(plot.title = element_text(hjust = .5), \n",
    "    axis.title.y = element_blank(), axis.title.x = element_blank()) + \n",
    "    ggtitle(expression(atop(paste('Bloomingdale Trail'), atop(paste('Crime Locations Since 6/6/2015'), \"\"))))"
   ]
  },
  {
   "cell_type": "code",
   "execution_count": null,
   "metadata": {
    "collapsed": false
   },
   "outputs": [],
   "source": [
    "## Read data\n",
    "data <- readShapeSpatial(\"chicago_crimes_selected_beats.shp\")\n",
    "chicago_beats_subset <- readShapeSpatial(\"chicago_beats_subset.shp\")"
   ]
  },
  {
   "cell_type": "code",
   "execution_count": null,
   "metadata": {
    "collapsed": false
   },
   "outputs": [],
   "source": [
    "## Plot crime locations\n",
    "plot(chicago_beats_subset, main = \"Bloomingdale Trail: Adjacent Police Beats\")\n",
    "mtext(\"Crime Locations Since 6/6/2015\")\n",
    "plot(data_pt, pch = 16, cex = 0.3, col = \"darkred\", add = T)"
   ]
  },
  {
   "cell_type": "code",
   "execution_count": null,
   "metadata": {
    "collapsed": false
   },
   "outputs": [],
   "source": [
    "## Extract point data\n",
    "data_pt <- as.ppp(data)\n",
    "data_pt_only <- unmark(data_pt)"
   ]
  },
  {
   "cell_type": "code",
   "execution_count": null,
   "metadata": {
    "collapsed": false,
    "scrolled": true
   },
   "outputs": [],
   "source": [
    "## Get projected values\n",
    "EPSG <- 32700 - round((45 + lat)/90)*100 + round((183 + lon)/6)\n",
    "coords <- SpatialPoints(coords(data_pt_only), proj4string = CRS(\"+proj=longlat\"))\n",
    "proj_xy <- spTransform(coords, CRS(paste0(\"+init=epsg:\", EPSG, \"\")))"
   ]
  },
  {
   "cell_type": "code",
   "execution_count": null,
   "metadata": {
    "collapsed": false
   },
   "outputs": [],
   "source": [
    "proj_data_pt <- unmark(as.ppp(proj_xy))\n",
    "plot(proj_data_pt)\n",
    "summary(proj_data_pt)"
   ]
  },
  {
   "cell_type": "code",
   "execution_count": null,
   "metadata": {
    "collapsed": false
   },
   "outputs": [],
   "source": [
    "## Set spatial domain window\n",
    "chicago_beats_subset <- as.owin(chicago_beats_subset)\n",
    "beat_data <- data_pt_only[chicago_beats_subset]\n",
    "plot(chicago_beats_subset, main = \"Bloomingdale Trail: Adjacent Police Beats\")\n",
    "plot(data_pt_only, pch = 16, cex = 0.4, col = \"dark red\", add = T)\n",
    "mtext(\"Crime Locations Since 6/6/2015\")"
   ]
  },
  {
   "cell_type": "code",
   "execution_count": null,
   "metadata": {
    "collapsed": false
   },
   "outputs": [],
   "source": [
    "qc <- quadratcount(beat_data, nx = 1, ny = 5)\n",
    "plot(qc)"
   ]
  },
  {
   "cell_type": "code",
   "execution_count": null,
   "metadata": {
    "collapsed": false
   },
   "outputs": [],
   "source": [
    "plot(chicago_beats_subset)\n",
    "plot(intensity(qc, image=T), add = T)\n",
    "plot(data_pt_only, add = T)"
   ]
  },
  {
   "cell_type": "code",
   "execution_count": null,
   "metadata": {
    "collapsed": false
   },
   "outputs": [],
   "source": [
    "## Test for centrography\n",
    "library(sp)\n",
    "library(aspace)\n",
    "library(maptools)\n",
    "library(plotrix)"
   ]
  },
  {
   "cell_type": "code",
   "execution_count": null,
   "metadata": {
    "collapsed": false
   },
   "outputs": [],
   "source": [
    "## Get matrix\n",
    "storexy <- coordinates(data)\n",
    "store <- data.frame(storexy, row.names = seq(dim(data)[1]))"
   ]
  },
  {
   "cell_type": "code",
   "execution_count": null,
   "metadata": {
    "collapsed": false
   },
   "outputs": [],
   "source": [
    "## Calculate data tendencies\n",
    "mnc <- mean_centre(id = 10, points = store)\n",
    "mdc <- median_centre(id = 11, points = store)\n",
    "cmind <- CF(id = 12, points = store)"
   ]
  },
  {
   "cell_type": "code",
   "execution_count": null,
   "metadata": {
    "collapsed": false
   },
   "outputs": [],
   "source": [
    "plot(store, main=\"Crime\", cex = 0.5, asp=1)\n",
    "points(mnc$CENTRE.x, mnc$CENTRE.y, cex=1.5, pch=3, col=\"red\")\n",
    "points(mdc$median.x, mdc$median.y, cex=1.5, pch=4, col=\"blue\")\n",
    "points(cmind$CF.x, cmind$CF.y, cex=1.5, pch=2, col=\"green\")"
   ]
  },
  {
   "cell_type": "code",
   "execution_count": null,
   "metadata": {
    "collapsed": false
   },
   "outputs": [],
   "source": [
    "## Kernel Density\n",
    "dd1 <- density(beat_data)\n",
    "attr(dd1,\"sigma\")"
   ]
  },
  {
   "cell_type": "code",
   "execution_count": null,
   "metadata": {
    "collapsed": false
   },
   "outputs": [],
   "source": [
    "plot(chicago_beats_subset, main = \"Bloomingdale Trail: Adjacent Police Beats\")\n",
    "mtext(\"Crime Locations Since 6/6/2015 - Kernel Density\")\n",
    "plot(dd1, add = T)\n",
    "plot(beat_data, pch = 16, cex = 0.4, col = \"black\", add = T)"
   ]
  },
  {
   "cell_type": "code",
   "execution_count": null,
   "metadata": {
    "collapsed": false
   },
   "outputs": [],
   "source": [
    "## Minimum Squared Error\n",
    "bw1 <- bw.diggle(beat_data)\n",
    "bw1\n",
    "plot(bw1)"
   ]
  },
  {
   "cell_type": "code",
   "execution_count": null,
   "metadata": {
    "collapsed": false
   },
   "outputs": [],
   "source": [
    "plot(chicago_beats_subset, main = \"Bloomingdale Trail: Adjacent Police Beats\")\n",
    "mtext(\"Crime Locations Since 6/6/2015\")\n",
    "plot(density(beat_data, sigma = bw1), add = T)\n",
    "plot(beat_data, pch = 16, cex = 0.4, col = \"black\", add = T)"
   ]
  },
  {
   "cell_type": "code",
   "execution_count": null,
   "metadata": {
    "collapsed": false
   },
   "outputs": [],
   "source": [
    "## Cumulative distance\n",
    "bw3 <- bw.frac(beat_data)\n",
    "bw3\n",
    "plot(bw3)"
   ]
  },
  {
   "cell_type": "code",
   "execution_count": null,
   "metadata": {
    "collapsed": false
   },
   "outputs": [],
   "source": [
    "plot(chicago_beats_subset, main = \"Bloomingdale Trail: Adjacent Police Beats\")\n",
    "mtext(\"Crime Locations Since 6/6/2015\")\n",
    "plot(density(beat_data, sigma = bw3), add = T)\n",
    "plot(beat_data, pch = 16, cex = 0.4, col = \"black\", add = T)"
   ]
  },
  {
   "cell_type": "code",
   "execution_count": null,
   "metadata": {
    "collapsed": false
   },
   "outputs": [],
   "source": [
    "## Random tesselation\n",
    "dd2 <- adaptive.density(beat_data, f = 0.1, nrep = 5)\n",
    "plot(chicago_beats_subset, main = \"Bloomingdale Trail: Adjacent Police Beats\")\n",
    "mtext(\"Crime Locations Since 6/6/2015\")\n",
    "plot(dd2, add = T)\n",
    "plot(beat_data, pch = 16, cex = 0.4, col = \"black\", add = T)"
   ]
  }
 ],
 "metadata": {
  "anaconda-cloud": {},
  "kernelspec": {
   "display_name": "R",
   "language": "R",
   "name": "ir"
  },
  "language_info": {
   "codemirror_mode": "r",
   "file_extension": ".r",
   "mimetype": "text/x-r-source",
   "name": "R",
   "pygments_lexer": "r",
   "version": "3.3.1"
  }
 },
 "nbformat": 4,
 "nbformat_minor": 1
}
